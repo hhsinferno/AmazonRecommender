{
 "cells": [
  {
   "cell_type": "code",
   "execution_count": 1,
   "metadata": {
    "collapsed": true
   },
   "outputs": [],
   "source": [
    "import numpy as np\n",
    "import pandas as pd"
   ]
  },
  {
   "cell_type": "code",
   "execution_count": 2,
   "metadata": {
    "collapsed": true
   },
   "outputs": [],
   "source": [
    "alldata = pd.read_csv('ratings.csv')"
   ]
  },
  {
   "cell_type": "code",
   "execution_count": 3,
   "metadata": {
    "collapsed": false
   },
   "outputs": [
    {
     "name": "stdout",
     "output_type": "stream",
     "text": [
      "[['A24SSUT5CSW8BH' '0078764343' 5.0 1377302400]\n",
      " ['AK3V0HEBJMQ7J' '0078764343' 4.0 1372896000]\n",
      " ['A10BECPH7W8HM7' '043933702X' 5.0 1404950400]\n",
      " ..., \n",
      " ['A2EHIE51TERF2C' 'B00LGBKSK4' 5.0 1405900800]\n",
      " ['A39GDUJP1737E1' 'B00LI0VTS8' 1.0 1405296000]\n",
      " ['A3LEQOLIXQU7KS' 'B00LIWF1GW' 5.0 1405123200]]\n"
     ]
    }
   ],
   "source": [
    "\n",
    "alldata=alldata.as_matrix()\n",
    "print alldata\n"
   ]
  },
  {
   "cell_type": "code",
   "execution_count": 4,
   "metadata": {
    "collapsed": false
   },
   "outputs": [
    {
     "name": "stdout",
     "output_type": "stream",
     "text": [
      "(1324752, 4)\n"
     ]
    }
   ],
   "source": [
    "print alldata.shape"
   ]
  },
  {
   "cell_type": "code",
   "execution_count": 5,
   "metadata": {
    "collapsed": false
   },
   "outputs": [
    {
     "name": "stdout",
     "output_type": "stream",
     "text": [
      "['A24SSUT5CSW8BH' '0078764343' 5.0 1377302400]\n"
     ]
    }
   ],
   "source": [
    "print alldata[0]"
   ]
  },
  {
   "cell_type": "code",
   "execution_count": null,
   "metadata": {
    "collapsed": true
   },
   "outputs": [],
   "source": []
  }
 ],
 "metadata": {
  "kernelspec": {
   "display_name": "Python [Root]",
   "language": "python",
   "name": "Python [Root]"
  },
  "language_info": {
   "codemirror_mode": {
    "name": "ipython",
    "version": 2
   },
   "file_extension": ".py",
   "mimetype": "text/x-python",
   "name": "python",
   "nbconvert_exporter": "python",
   "pygments_lexer": "ipython2",
   "version": "2.7.12"
  }
 },
 "nbformat": 4,
 "nbformat_minor": 0
}
